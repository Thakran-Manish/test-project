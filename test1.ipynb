This is my first upload via UI. UserInterface

What is the extension of file ipynb
python notebook
